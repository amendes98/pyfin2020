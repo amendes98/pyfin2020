{
 "cells": [
  {
   "cell_type": "markdown",
   "metadata": {},
   "source": [
    "# Python for Finance 2020\n",
    "\n",
    "MSc in Finance, Universidade Católica Portuguesa\n",
    "\n",
    "Instructor: João Brogueira de Sousa [jbsousa@ucp.pt]"
   ]
  },
  {
   "cell_type": "markdown",
   "metadata": {},
   "source": [
    "## Assignment #1\n",
    "\n",
    "This notebooks contains exercises that cover the material on notebooks 1 to 3. \n",
    "\n",
    "You should add your answers below, and the identification of all the group members here:\n",
    "\n",
    "- Ana Maria Mendes, 152119084, anam.mendes.98@gmail.com\n",
    "- Group member 2 name, Student ID number, email address\n",
    "- Group member 3 name, Student ID number, email address\n",
    "- Group member 4 name, Student ID number, email address\n",
    "\n",
    "You may add extra cells for your answers when needed.\n",
    "\n",
    "Note on grading: often, there will be different ways to solve the exercises and arrive at the correct result. Additional points are awarded for a clear and efficient use of Python. For example, a correct solution using only one `for` loop will be awarded more points than a correct solution using two or more `for` loops.\n",
    "\n",
    "Should you have any questions about this assignment, please write an email to [jbsousa@ucp.pt].\n",
    "\n",
    "You should submit the solution by sending the notebook by email until Tuesday February 18th 13:00 (GMT)."
   ]
  },
  {
   "cell_type": "markdown",
   "metadata": {},
   "source": [
    "### Exercise 1\n",
    "\n",
    "**1.1.** Create the following variables:\n",
    "\n",
    "- `D`: A `float` with the value 10,000\n",
    "- `r`: A `float` with value 0.025\n",
    "- `T`: An `int` with value 30"
   ]
  },
  {
   "cell_type": "code",
   "execution_count": 3,
   "metadata": {},
   "outputs": [
    {
     "name": "stdout",
     "output_type": "stream",
     "text": [
      "<class 'float'> <class 'float'> <class 'int'>\n"
     ]
    }
   ],
   "source": [
    "D=10000.0 #With .0 to ensure will assume float type\n",
    "r=0.025\n",
    "T=30\n",
    "\n",
    "print(\n",
    "    type(D),\n",
    "    type(r),\n",
    "    type(T),\n",
    ")"
   ]
  },
  {
   "cell_type": "markdown",
   "metadata": {},
   "source": [
    "**1.2.** Compute the present discounted value ($PDV$) of a payment $D$ made in $T$ years, assuming an annual effective discount rate of $r=2.5\\%$. Save this value in a new variable called `PDV` and print it."
   ]
  },
  {
   "cell_type": "code",
   "execution_count": 4,
   "metadata": {},
   "outputs": [
    {
     "name": "stdout",
     "output_type": "stream",
     "text": [
      "4767.426851809713\n"
     ]
    }
   ],
   "source": [
    "PDV=D/((1+r)**30)\n",
    "print(PDV)"
   ]
  },
  {
   "cell_type": "markdown",
   "metadata": {},
   "source": [
    "**1.3.** What is the data-type of `PDV`?"
   ]
  },
  {
   "cell_type": "code",
   "execution_count": 5,
   "metadata": {},
   "outputs": [
    {
     "data": {
      "text/plain": [
       "float"
      ]
     },
     "execution_count": 5,
     "metadata": {},
     "output_type": "execute_result"
    }
   ],
   "source": [
    "type(PDV) #Will be float because it has a non-integer division operation"
   ]
  },
  {
   "cell_type": "markdown",
   "metadata": {},
   "source": [
    "### Exercise 2\n",
    "\n",
    "Consider the following investment opportunity. One can invest 7,500 USD today (year 0), and will receive 2,000 USD per year starting 5 years from now (year 5) for a period of 5 years, and zero ever after."
   ]
  },
  {
   "cell_type": "markdown",
   "metadata": {},
   "source": [
    "**2.1.** Represent the stream of cashflows above using a type `list` variable named `cflows`. "
   ]
  },
  {
   "cell_type": "code",
   "execution_count": 6,
   "metadata": {},
   "outputs": [
    {
     "data": {
      "text/plain": [
       "[-7500, 0, 0, 0, 0, 2000, 2000, 2000, 2000, 2000]"
      ]
     },
     "execution_count": 6,
     "metadata": {},
     "output_type": "execute_result"
    }
   ],
   "source": [
    "cflows=[-7500,0,0,0,0,2000,2000,2000,2000,2000]\n",
    "cflows"
   ]
  },
  {
   "cell_type": "markdown",
   "metadata": {},
   "source": [
    "**2.2.** With an annual effective discount rate of $5\\%$, what is the net present value (NPV) of this investment? Compute and then store this value in a variable named `NPV`."
   ]
  },
  {
   "cell_type": "code",
   "execution_count": 7,
   "metadata": {},
   "outputs": [
    {
     "name": "stdout",
     "output_type": "stream",
     "text": [
      "-376.26 USD\n"
     ]
    }
   ],
   "source": [
    "aux=sum(cflow/(1+0.05)**year for year,cflow in enumerate(cflows))\n",
    "NPV=aux\n",
    "print(str(round(NPV,2))+' USD')"
   ]
  },
  {
   "cell_type": "markdown",
   "metadata": {},
   "source": [
    "**2.3.** Create a list with the discount rates $2\\%$, $3\\%$, $4\\%$, $5\\%$ and $6\\%$. Compute again the NPV of this investment for all these discount rates."
   ]
  },
  {
   "cell_type": "code",
   "execution_count": 8,
   "metadata": {},
   "outputs": [
    {
     "name": "stdout",
     "output_type": "stream",
     "text": [
      "NPV with r=2% is equal to 1209.02 USD\n",
      "NPV with r=3% is equal to 638.02 USD\n",
      "NPV with r=4% is equal to 110.87 USD\n",
      "NPV with r=5% is equal to -376.26 USD\n",
      "NPV with r=6% is equal to -826.83 USD\n"
     ]
    }
   ],
   "source": [
    "R=[0.02,0.03,0.04,0.05,0.06]\n",
    "for r in R:\n",
    "    NPV=sum(cflow/(1+r)**year for year,cflow in enumerate(cflows))\n",
    "    print('NPV with r='+str(int(r*100))+'% is equal to '+str(round(NPV,2))+' USD')"
   ]
  },
  {
   "cell_type": "markdown",
   "metadata": {},
   "source": [
    "**2.4.** Define a function named `npv` that takes as parameter variables (`drate` and `cflows` as in `npv(drate, cflows)`): \n",
    "- a `float` with the annual effective discount rate (`drate`), \n",
    "- a `list` with the cashflows (`cflows`).\n",
    "\n",
    "This function should return a `float` with the corresponding NPV of the investment. \n",
    "\n",
    "Note that the order of the function arguments is relevant.\n"
   ]
  },
  {
   "cell_type": "code",
   "execution_count": 9,
   "metadata": {},
   "outputs": [],
   "source": [
    " def npv(drate,cflows):\n",
    "    npv=sum(cflow/(1+drate)**year for year,cflow in enumerate(cflows))\n",
    "    return npv"
   ]
  },
  {
   "cell_type": "markdown",
   "metadata": {},
   "source": [
    "**2.5.** With the function defined above and, using the bisection method `bisect` available in the `scipy` package imported below, find the breakeven discount rate that corresponds to a NPV of zero.\n",
    "\n",
    "Note that to use the `bisect(npv,...)` method, you should provide the interval bounds for the bisection method and an additional argument to evaluate function `npv` correctly, specifically `args=cflows`. Learn how to use `bisect` by reading its docstring."
   ]
  },
  {
   "cell_type": "code",
   "execution_count": 10,
   "metadata": {},
   "outputs": [],
   "source": [
    "from scipy import optimize"
   ]
  },
  {
   "cell_type": "code",
   "execution_count": 11,
   "metadata": {},
   "outputs": [],
   "source": [
    "optimize.bisect?"
   ]
  },
  {
   "cell_type": "code",
   "execution_count": 12,
   "metadata": {},
   "outputs": [
    {
     "name": "stdout",
     "output_type": "stream",
     "text": [
      "The breakeven discount rate that corresponds to a NPV of zero, for the given stream of cash flows, is 4.22%.\n"
     ]
    }
   ],
   "source": [
    "BEdrate=optimize.bisect(\n",
    "    npv,\n",
    "    0.06, #Bisection method takes as a and b values for each f(a) and f(b) switchs signs\n",
    "    0.02, #This way, being a function with just one zero, we know its zero will be in between a and b for sure\n",
    "    args=cflows #Since our function has multiple arguments\n",
    ")\n",
    "#Understood idea of this method here https://www.youtube.com/watch?v=QcuVPbN4_Vk\n",
    "print('The breakeven discount rate that corresponds to a NPV of zero, for the given stream of cash flows, is '+str(round(BEdrate*100,2))+'%.')"
   ]
  },
  {
   "cell_type": "markdown",
   "metadata": {},
   "source": [
    "### Exercise 3\n",
    "\n",
    "**3.1.** Write a function named `P`, taking as inputs:\n",
    "1. a `list` of arbitrary length $n$ named `d`, representing a dividend stream over time $d_t$, and \n",
    "2. a `float` or `int` named `i`, representing the effective discount rate $i$. \n",
    "\n",
    "This function should return the price $P$, given by the present value of the dividend stream:\n",
    "\n",
    "$$ P = \\sum_{t=0}^{n-1} \\dfrac{d_t}{(1+i)^t} $$"
   ]
  },
  {
   "cell_type": "code",
   "execution_count": 13,
   "metadata": {},
   "outputs": [],
   "source": [
    "def P(dt,i):\n",
    "    P=sum(d/(1+i)**year for year,d in enumerate(dt)) #Not sure if first is in t=0 or t=1, if t=1 will need to put (year+1) before **\n",
    "    return P"
   ]
  },
  {
   "cell_type": "markdown",
   "metadata": {},
   "source": [
    "**3.2.** Modify your function such that it prints a string:\n",
    "\n",
    "- with the message 'Dividend stream must be `list`!', if the parameter variable is not a `list` for the dividends, or\n",
    "- with 'Discount rate must be `float` or `int`!', if the variable is not one of the two types for the case of the discount rate."
   ]
  },
  {
   "cell_type": "code",
   "execution_count": 14,
   "metadata": {},
   "outputs": [],
   "source": [
    "def P(dt,i):\n",
    "    if not type(dt) == list:\n",
    "        print('Dividend stream must be list!')\n",
    "    if not (type(i) == int or type(i) == float):\n",
    "        print('Discount rate must be float or int!')\n",
    "    if (type(dt) == list) and (type(i) == float or type(i) == int):\n",
    "        P=sum(d/(1+i)**year for year,d in enumerate(dt))\n",
    "    return P"
   ]
  },
  {
   "cell_type": "markdown",
   "metadata": {},
   "source": [
    "**3.3.** Discribe your function and its required input and output variables by writing its Docstring."
   ]
  },
  {
   "cell_type": "code",
   "execution_count": 15,
   "metadata": {},
   "outputs": [],
   "source": [
    "def P(dt,i):\n",
    "    '''Computes the Price of a stock, given the present value of its dividend stream.\n",
    "    \n",
    "    Parameters\n",
    "    ----------\n",
    "    dt: list\n",
    "        contains the dividend stream over time\n",
    "    i: float or int\n",
    "       effective discount rate applicable to the stream of dividends\n",
    "       \n",
    "    Returns\n",
    "    ----------\n",
    "    P: float\n",
    "       the price of the stock\n",
    "       \n",
    "    Example\n",
    "    ----------\n",
    "    dt=[300,150,600,0,1100]\n",
    "    P(dt,0.11)\n",
    "    1646.7126666410682\n",
    "        \n",
    "    ----------'''\n",
    "    if not type(dt) == list:\n",
    "        print('Dividend stream must be list!')\n",
    "    if not (type(i) == float or type(i) == float):\n",
    "        print('Discount rate must be float or int!')\n",
    "    if (type(dt) == list) and (type(i) == float or type(i) == int):\n",
    "        P=sum(d/(1+i)**year for year,d in enumerate(dt))\n",
    "    return P\n",
    "\n",
    "P?"
   ]
  },
  {
   "cell_type": "markdown",
   "metadata": {},
   "source": [
    "### Exercise 4\n",
    "\n",
    "In this exercise you will work with daily data about the SP500 index, contained in the file **^GSPC.csv** available in the course's [GitHub repo](https://github.com/jbrogueira/pyfin2020).\n",
    "\n",
    "Do make sure you use the correct path to access the file when you want to import the data."
   ]
  },
  {
   "cell_type": "markdown",
   "metadata": {},
   "source": [
    "**4.1.** Import `pandas` and read the data in **^GSPC.csv** into a DataFrame named `sp500`. Inspect the first 3 rows of the DataFrame by using the method `head()`."
   ]
  },
  {
   "cell_type": "code",
   "execution_count": 16,
   "metadata": {},
   "outputs": [
    {
     "data": {
      "text/html": [
       "<div>\n",
       "<style scoped>\n",
       "    .dataframe tbody tr th:only-of-type {\n",
       "        vertical-align: middle;\n",
       "    }\n",
       "\n",
       "    .dataframe tbody tr th {\n",
       "        vertical-align: top;\n",
       "    }\n",
       "\n",
       "    .dataframe thead th {\n",
       "        text-align: right;\n",
       "    }\n",
       "</style>\n",
       "<table border=\"1\" class=\"dataframe\">\n",
       "  <thead>\n",
       "    <tr style=\"text-align: right;\">\n",
       "      <th></th>\n",
       "      <th>Date</th>\n",
       "      <th>Open</th>\n",
       "      <th>High</th>\n",
       "      <th>Low</th>\n",
       "      <th>Close</th>\n",
       "      <th>Adj Close</th>\n",
       "      <th>Volume</th>\n",
       "    </tr>\n",
       "  </thead>\n",
       "  <tbody>\n",
       "    <tr>\n",
       "      <td>0</td>\n",
       "      <td>2019-02-11</td>\n",
       "      <td>2712.399902</td>\n",
       "      <td>2718.050049</td>\n",
       "      <td>2703.790039</td>\n",
       "      <td>2709.800049</td>\n",
       "      <td>2709.800049</td>\n",
       "      <td>3361970000</td>\n",
       "    </tr>\n",
       "    <tr>\n",
       "      <td>1</td>\n",
       "      <td>2019-02-12</td>\n",
       "      <td>2722.610107</td>\n",
       "      <td>2748.189941</td>\n",
       "      <td>2722.610107</td>\n",
       "      <td>2744.729980</td>\n",
       "      <td>2744.729980</td>\n",
       "      <td>3827770000</td>\n",
       "    </tr>\n",
       "    <tr>\n",
       "      <td>2</td>\n",
       "      <td>2019-02-13</td>\n",
       "      <td>2750.300049</td>\n",
       "      <td>2761.850098</td>\n",
       "      <td>2748.629883</td>\n",
       "      <td>2753.030029</td>\n",
       "      <td>2753.030029</td>\n",
       "      <td>3670770000</td>\n",
       "    </tr>\n",
       "  </tbody>\n",
       "</table>\n",
       "</div>"
      ],
      "text/plain": [
       "         Date         Open         High          Low        Close  \\\n",
       "0  2019-02-11  2712.399902  2718.050049  2703.790039  2709.800049   \n",
       "1  2019-02-12  2722.610107  2748.189941  2722.610107  2744.729980   \n",
       "2  2019-02-13  2750.300049  2761.850098  2748.629883  2753.030029   \n",
       "\n",
       "     Adj Close      Volume  \n",
       "0  2709.800049  3361970000  \n",
       "1  2744.729980  3827770000  \n",
       "2  2753.030029  3670770000  "
      ]
     },
     "execution_count": 16,
     "metadata": {},
     "output_type": "execute_result"
    }
   ],
   "source": [
    "import pandas as pd\n",
    "\n",
    "sp500 = pd.read_csv('^GSPC.csv')\n",
    "sp500.head(3)"
   ]
  },
  {
   "cell_type": "markdown",
   "metadata": {},
   "source": [
    "**4.2.** Use the method `mean` to compute the mean of all the columns of `sp500`."
   ]
  },
  {
   "cell_type": "code",
   "execution_count": 45,
   "metadata": {
    "scrolled": true
   },
   "outputs": [
    {
     "data": {
      "text/plain": [
       "Open               2983.84\n",
       "High               2995.49\n",
       "Low                2971.84\n",
       "Close              2984.99\n",
       "Adj Close          2984.99\n",
       "Volume       3522499734.84\n",
       "Roll Mean          2982.99\n",
       "SMA                   0.37\n",
       "dtype: object"
      ]
     },
     "execution_count": 45,
     "metadata": {},
     "output_type": "execute_result"
    }
   ],
   "source": [
    "sp500.mean().apply(lambda x: '%.2f' % x) #format change seen here https://re-thought.com/how-to-suppress-scientific-notation-in-pandas/\n",
    "\n",
    "# why doesn't this work? - {0:.2f}'.format(a) - learned here https://stackoverflow.com/questions/7801586/print-a-float-number-in-normal-form-not-exponential-form-scientific-notation"
   ]
  },
  {
   "cell_type": "markdown",
   "metadata": {},
   "source": [
    "**4.3.** We can easily compute rolling statistics using Pandas. For example, suppose we are interested in calculating a rolling mean value of a series with a window of 10 periods. If this series is stored in column `A` of a DataFrame `df`, we can easily do it with:\n",
    "\n",
    "```python\n",
    "df['A'].rolling(window=10).mean()\n",
    "```\n",
    "\n",
    "Add a new column to `sp500` with a rolling mean of the Close level of the SP500, and label it `'Roll Mean'`."
   ]
  },
  {
   "cell_type": "code",
   "execution_count": 41,
   "metadata": {
    "scrolled": true
   },
   "outputs": [
    {
     "data": {
      "text/html": [
       "<div>\n",
       "<style scoped>\n",
       "    .dataframe tbody tr th:only-of-type {\n",
       "        vertical-align: middle;\n",
       "    }\n",
       "\n",
       "    .dataframe tbody tr th {\n",
       "        vertical-align: top;\n",
       "    }\n",
       "\n",
       "    .dataframe thead th {\n",
       "        text-align: right;\n",
       "    }\n",
       "</style>\n",
       "<table border=\"1\" class=\"dataframe\">\n",
       "  <thead>\n",
       "    <tr style=\"text-align: right;\">\n",
       "      <th></th>\n",
       "      <th>Date</th>\n",
       "      <th>Open</th>\n",
       "      <th>High</th>\n",
       "      <th>Low</th>\n",
       "      <th>Close</th>\n",
       "      <th>Adj Close</th>\n",
       "      <th>Volume</th>\n",
       "      <th>Roll Mean</th>\n",
       "    </tr>\n",
       "  </thead>\n",
       "  <tbody>\n",
       "    <tr>\n",
       "      <td>0</td>\n",
       "      <td>2019-02-11</td>\n",
       "      <td>2712.399902</td>\n",
       "      <td>2718.050049</td>\n",
       "      <td>2703.790039</td>\n",
       "      <td>2709.800049</td>\n",
       "      <td>2709.800049</td>\n",
       "      <td>3361970000</td>\n",
       "      <td>NaN</td>\n",
       "    </tr>\n",
       "    <tr>\n",
       "      <td>1</td>\n",
       "      <td>2019-02-12</td>\n",
       "      <td>2722.610107</td>\n",
       "      <td>2748.189941</td>\n",
       "      <td>2722.610107</td>\n",
       "      <td>2744.729980</td>\n",
       "      <td>2744.729980</td>\n",
       "      <td>3827770000</td>\n",
       "      <td>NaN</td>\n",
       "    </tr>\n",
       "    <tr>\n",
       "      <td>2</td>\n",
       "      <td>2019-02-13</td>\n",
       "      <td>2750.300049</td>\n",
       "      <td>2761.850098</td>\n",
       "      <td>2748.629883</td>\n",
       "      <td>2753.030029</td>\n",
       "      <td>2753.030029</td>\n",
       "      <td>3670770000</td>\n",
       "      <td>NaN</td>\n",
       "    </tr>\n",
       "    <tr>\n",
       "      <td>3</td>\n",
       "      <td>2019-02-14</td>\n",
       "      <td>2743.500000</td>\n",
       "      <td>2757.899902</td>\n",
       "      <td>2731.229980</td>\n",
       "      <td>2745.729980</td>\n",
       "      <td>2745.729980</td>\n",
       "      <td>3836700000</td>\n",
       "      <td>NaN</td>\n",
       "    </tr>\n",
       "    <tr>\n",
       "      <td>4</td>\n",
       "      <td>2019-02-15</td>\n",
       "      <td>2760.239990</td>\n",
       "      <td>2775.659912</td>\n",
       "      <td>2760.239990</td>\n",
       "      <td>2775.600098</td>\n",
       "      <td>2775.600098</td>\n",
       "      <td>3641370000</td>\n",
       "      <td>NaN</td>\n",
       "    </tr>\n",
       "    <tr>\n",
       "      <td>...</td>\n",
       "      <td>...</td>\n",
       "      <td>...</td>\n",
       "      <td>...</td>\n",
       "      <td>...</td>\n",
       "      <td>...</td>\n",
       "      <td>...</td>\n",
       "      <td>...</td>\n",
       "      <td>...</td>\n",
       "    </tr>\n",
       "    <tr>\n",
       "      <td>248</td>\n",
       "      <td>2020-02-05</td>\n",
       "      <td>3324.909912</td>\n",
       "      <td>3337.580078</td>\n",
       "      <td>3313.750000</td>\n",
       "      <td>3334.689941</td>\n",
       "      <td>3334.689941</td>\n",
       "      <td>4117730000</td>\n",
       "      <td>3280.465967</td>\n",
       "    </tr>\n",
       "    <tr>\n",
       "      <td>249</td>\n",
       "      <td>2020-02-06</td>\n",
       "      <td>3344.919922</td>\n",
       "      <td>3347.959961</td>\n",
       "      <td>3334.389893</td>\n",
       "      <td>3345.780029</td>\n",
       "      <td>3345.780029</td>\n",
       "      <td>3868370000</td>\n",
       "      <td>3282.489966</td>\n",
       "    </tr>\n",
       "    <tr>\n",
       "      <td>250</td>\n",
       "      <td>2020-02-07</td>\n",
       "      <td>3335.540039</td>\n",
       "      <td>3341.419922</td>\n",
       "      <td>3322.120117</td>\n",
       "      <td>3327.709961</td>\n",
       "      <td>3327.709961</td>\n",
       "      <td>3730650000</td>\n",
       "      <td>3285.713965</td>\n",
       "    </tr>\n",
       "    <tr>\n",
       "      <td>251</td>\n",
       "      <td>2020-02-10</td>\n",
       "      <td>3318.280029</td>\n",
       "      <td>3352.260010</td>\n",
       "      <td>3317.770020</td>\n",
       "      <td>3352.090088</td>\n",
       "      <td>3352.090088</td>\n",
       "      <td>3450350000</td>\n",
       "      <td>3296.559985</td>\n",
       "    </tr>\n",
       "    <tr>\n",
       "      <td>252</td>\n",
       "      <td>2020-02-11</td>\n",
       "      <td>3365.870117</td>\n",
       "      <td>3375.629883</td>\n",
       "      <td>3357.989990</td>\n",
       "      <td>3358.020020</td>\n",
       "      <td>3358.020020</td>\n",
       "      <td>1175962914</td>\n",
       "      <td>3304.737988</td>\n",
       "    </tr>\n",
       "  </tbody>\n",
       "</table>\n",
       "<p>253 rows × 8 columns</p>\n",
       "</div>"
      ],
      "text/plain": [
       "           Date         Open         High          Low        Close  \\\n",
       "0    2019-02-11  2712.399902  2718.050049  2703.790039  2709.800049   \n",
       "1    2019-02-12  2722.610107  2748.189941  2722.610107  2744.729980   \n",
       "2    2019-02-13  2750.300049  2761.850098  2748.629883  2753.030029   \n",
       "3    2019-02-14  2743.500000  2757.899902  2731.229980  2745.729980   \n",
       "4    2019-02-15  2760.239990  2775.659912  2760.239990  2775.600098   \n",
       "..          ...          ...          ...          ...          ...   \n",
       "248  2020-02-05  3324.909912  3337.580078  3313.750000  3334.689941   \n",
       "249  2020-02-06  3344.919922  3347.959961  3334.389893  3345.780029   \n",
       "250  2020-02-07  3335.540039  3341.419922  3322.120117  3327.709961   \n",
       "251  2020-02-10  3318.280029  3352.260010  3317.770020  3352.090088   \n",
       "252  2020-02-11  3365.870117  3375.629883  3357.989990  3358.020020   \n",
       "\n",
       "       Adj Close      Volume    Roll Mean  \n",
       "0    2709.800049  3361970000          NaN  \n",
       "1    2744.729980  3827770000          NaN  \n",
       "2    2753.030029  3670770000          NaN  \n",
       "3    2745.729980  3836700000          NaN  \n",
       "4    2775.600098  3641370000          NaN  \n",
       "..           ...         ...          ...  \n",
       "248  3334.689941  4117730000  3280.465967  \n",
       "249  3345.780029  3868370000  3282.489966  \n",
       "250  3327.709961  3730650000  3285.713965  \n",
       "251  3352.090088  3450350000  3296.559985  \n",
       "252  3358.020020  1175962914  3304.737988  \n",
       "\n",
       "[253 rows x 8 columns]"
      ]
     },
     "execution_count": 41,
     "metadata": {},
     "output_type": "execute_result"
    }
   ],
   "source": [
    "sp500['Roll Mean']=sp500['Close'].rolling(window=10).mean()\n",
    "sp500"
   ]
  },
  {
   "cell_type": "markdown",
   "metadata": {},
   "source": [
    "**4.4.** Add a new column to `sp500` with label `'SMA'` with the following data:\n",
    "\n",
    "- 0, if `'Roll Mean'` is not defined,\n",
    "- 1, in days in which the Close level of the SP500 is *above* the `'Roll Mean'`,\n",
    "- -1, in days in which the Close level of the SP500 is *below* the `'Roll Mean'`."
   ]
  },
  {
   "cell_type": "code",
   "execution_count": 42,
   "metadata": {
    "scrolled": true
   },
   "outputs": [
    {
     "data": {
      "text/html": [
       "<div>\n",
       "<style scoped>\n",
       "    .dataframe tbody tr th:only-of-type {\n",
       "        vertical-align: middle;\n",
       "    }\n",
       "\n",
       "    .dataframe tbody tr th {\n",
       "        vertical-align: top;\n",
       "    }\n",
       "\n",
       "    .dataframe thead th {\n",
       "        text-align: right;\n",
       "    }\n",
       "</style>\n",
       "<table border=\"1\" class=\"dataframe\">\n",
       "  <thead>\n",
       "    <tr style=\"text-align: right;\">\n",
       "      <th></th>\n",
       "      <th>Date</th>\n",
       "      <th>Open</th>\n",
       "      <th>High</th>\n",
       "      <th>Low</th>\n",
       "      <th>Close</th>\n",
       "      <th>Adj Close</th>\n",
       "      <th>Volume</th>\n",
       "      <th>Roll Mean</th>\n",
       "      <th>SMA</th>\n",
       "    </tr>\n",
       "  </thead>\n",
       "  <tbody>\n",
       "    <tr>\n",
       "      <td>0</td>\n",
       "      <td>2019-02-11</td>\n",
       "      <td>2712.399902</td>\n",
       "      <td>2718.050049</td>\n",
       "      <td>2703.790039</td>\n",
       "      <td>2709.800049</td>\n",
       "      <td>2709.800049</td>\n",
       "      <td>3361970000</td>\n",
       "      <td>NaN</td>\n",
       "      <td>0</td>\n",
       "    </tr>\n",
       "    <tr>\n",
       "      <td>1</td>\n",
       "      <td>2019-02-12</td>\n",
       "      <td>2722.610107</td>\n",
       "      <td>2748.189941</td>\n",
       "      <td>2722.610107</td>\n",
       "      <td>2744.729980</td>\n",
       "      <td>2744.729980</td>\n",
       "      <td>3827770000</td>\n",
       "      <td>NaN</td>\n",
       "      <td>0</td>\n",
       "    </tr>\n",
       "    <tr>\n",
       "      <td>2</td>\n",
       "      <td>2019-02-13</td>\n",
       "      <td>2750.300049</td>\n",
       "      <td>2761.850098</td>\n",
       "      <td>2748.629883</td>\n",
       "      <td>2753.030029</td>\n",
       "      <td>2753.030029</td>\n",
       "      <td>3670770000</td>\n",
       "      <td>NaN</td>\n",
       "      <td>0</td>\n",
       "    </tr>\n",
       "    <tr>\n",
       "      <td>3</td>\n",
       "      <td>2019-02-14</td>\n",
       "      <td>2743.500000</td>\n",
       "      <td>2757.899902</td>\n",
       "      <td>2731.229980</td>\n",
       "      <td>2745.729980</td>\n",
       "      <td>2745.729980</td>\n",
       "      <td>3836700000</td>\n",
       "      <td>NaN</td>\n",
       "      <td>0</td>\n",
       "    </tr>\n",
       "    <tr>\n",
       "      <td>4</td>\n",
       "      <td>2019-02-15</td>\n",
       "      <td>2760.239990</td>\n",
       "      <td>2775.659912</td>\n",
       "      <td>2760.239990</td>\n",
       "      <td>2775.600098</td>\n",
       "      <td>2775.600098</td>\n",
       "      <td>3641370000</td>\n",
       "      <td>NaN</td>\n",
       "      <td>0</td>\n",
       "    </tr>\n",
       "    <tr>\n",
       "      <td>...</td>\n",
       "      <td>...</td>\n",
       "      <td>...</td>\n",
       "      <td>...</td>\n",
       "      <td>...</td>\n",
       "      <td>...</td>\n",
       "      <td>...</td>\n",
       "      <td>...</td>\n",
       "      <td>...</td>\n",
       "      <td>...</td>\n",
       "    </tr>\n",
       "    <tr>\n",
       "      <td>248</td>\n",
       "      <td>2020-02-05</td>\n",
       "      <td>3324.909912</td>\n",
       "      <td>3337.580078</td>\n",
       "      <td>3313.750000</td>\n",
       "      <td>3334.689941</td>\n",
       "      <td>3334.689941</td>\n",
       "      <td>4117730000</td>\n",
       "      <td>3280.465967</td>\n",
       "      <td>1</td>\n",
       "    </tr>\n",
       "    <tr>\n",
       "      <td>249</td>\n",
       "      <td>2020-02-06</td>\n",
       "      <td>3344.919922</td>\n",
       "      <td>3347.959961</td>\n",
       "      <td>3334.389893</td>\n",
       "      <td>3345.780029</td>\n",
       "      <td>3345.780029</td>\n",
       "      <td>3868370000</td>\n",
       "      <td>3282.489966</td>\n",
       "      <td>1</td>\n",
       "    </tr>\n",
       "    <tr>\n",
       "      <td>250</td>\n",
       "      <td>2020-02-07</td>\n",
       "      <td>3335.540039</td>\n",
       "      <td>3341.419922</td>\n",
       "      <td>3322.120117</td>\n",
       "      <td>3327.709961</td>\n",
       "      <td>3327.709961</td>\n",
       "      <td>3730650000</td>\n",
       "      <td>3285.713965</td>\n",
       "      <td>1</td>\n",
       "    </tr>\n",
       "    <tr>\n",
       "      <td>251</td>\n",
       "      <td>2020-02-10</td>\n",
       "      <td>3318.280029</td>\n",
       "      <td>3352.260010</td>\n",
       "      <td>3317.770020</td>\n",
       "      <td>3352.090088</td>\n",
       "      <td>3352.090088</td>\n",
       "      <td>3450350000</td>\n",
       "      <td>3296.559985</td>\n",
       "      <td>1</td>\n",
       "    </tr>\n",
       "    <tr>\n",
       "      <td>252</td>\n",
       "      <td>2020-02-11</td>\n",
       "      <td>3365.870117</td>\n",
       "      <td>3375.629883</td>\n",
       "      <td>3357.989990</td>\n",
       "      <td>3358.020020</td>\n",
       "      <td>3358.020020</td>\n",
       "      <td>1175962914</td>\n",
       "      <td>3304.737988</td>\n",
       "      <td>1</td>\n",
       "    </tr>\n",
       "  </tbody>\n",
       "</table>\n",
       "<p>253 rows × 9 columns</p>\n",
       "</div>"
      ],
      "text/plain": [
       "           Date         Open         High          Low        Close  \\\n",
       "0    2019-02-11  2712.399902  2718.050049  2703.790039  2709.800049   \n",
       "1    2019-02-12  2722.610107  2748.189941  2722.610107  2744.729980   \n",
       "2    2019-02-13  2750.300049  2761.850098  2748.629883  2753.030029   \n",
       "3    2019-02-14  2743.500000  2757.899902  2731.229980  2745.729980   \n",
       "4    2019-02-15  2760.239990  2775.659912  2760.239990  2775.600098   \n",
       "..          ...          ...          ...          ...          ...   \n",
       "248  2020-02-05  3324.909912  3337.580078  3313.750000  3334.689941   \n",
       "249  2020-02-06  3344.919922  3347.959961  3334.389893  3345.780029   \n",
       "250  2020-02-07  3335.540039  3341.419922  3322.120117  3327.709961   \n",
       "251  2020-02-10  3318.280029  3352.260010  3317.770020  3352.090088   \n",
       "252  2020-02-11  3365.870117  3375.629883  3357.989990  3358.020020   \n",
       "\n",
       "       Adj Close      Volume    Roll Mean  SMA  \n",
       "0    2709.800049  3361970000          NaN    0  \n",
       "1    2744.729980  3827770000          NaN    0  \n",
       "2    2753.030029  3670770000          NaN    0  \n",
       "3    2745.729980  3836700000          NaN    0  \n",
       "4    2775.600098  3641370000          NaN    0  \n",
       "..           ...         ...          ...  ...  \n",
       "248  3334.689941  4117730000  3280.465967    1  \n",
       "249  3345.780029  3868370000  3282.489966    1  \n",
       "250  3327.709961  3730650000  3285.713965    1  \n",
       "251  3352.090088  3450350000  3296.559985    1  \n",
       "252  3358.020020  1175962914  3304.737988    1  \n",
       "\n",
       "[253 rows x 9 columns]"
      ]
     },
     "execution_count": 42,
     "metadata": {},
     "output_type": "execute_result"
    }
   ],
   "source": [
    "import numpy as np\n",
    "conditions = [\n",
    "    (sp500['Close'] > sp500['Roll Mean']),\n",
    "    (sp500['Close'] < sp500['Roll Mean'])]\n",
    "choices = [1, -1]\n",
    "sp500['SMA'] = np.select(conditions, choices, default=0) #Should NaN case be set as the default one? Or make additional statement? Cause I think we don't account for 1 possibility which is Close=RollMean, so may appear 0 in SMA col but that may not necessarily mean RollMean NaN may just be that Close=RollMean\n",
    "#sp500['SMA']=np.where(sp500['Close']>sp500['Roll Mean'], 1, -1) for TWO conditions only\n",
    "#code from https://stackoverflow.com/questions/19913659/pandas-conditional-creation-of-a-series-dataframe-column\n",
    "sp500"
   ]
  },
  {
   "cell_type": "code",
   "execution_count": null,
   "metadata": {},
   "outputs": [],
   "source": []
  }
 ],
 "metadata": {
  "kernelspec": {
   "display_name": "Python 3",
   "language": "python",
   "name": "python3"
  },
  "language_info": {
   "codemirror_mode": {
    "name": "ipython",
    "version": 3
   },
   "file_extension": ".py",
   "mimetype": "text/x-python",
   "name": "python",
   "nbconvert_exporter": "python",
   "pygments_lexer": "ipython3",
   "version": "3.7.4"
  }
 },
 "nbformat": 4,
 "nbformat_minor": 2
}
